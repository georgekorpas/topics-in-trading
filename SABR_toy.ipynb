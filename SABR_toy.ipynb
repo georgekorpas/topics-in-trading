{
 "cells": [
  {
   "cell_type": "markdown",
   "id": "0f109e70-f937-4646-881e-bf754371bb0b",
   "metadata": {},
   "source": [
    "# A simple SABR implementation "
   ]
  },
  {
   "cell_type": "markdown",
   "id": "8293e897-2df0-4d9f-8e32-22052d77ac07",
   "metadata": {},
   "source": [
    "The SABR model (Stochastic Alpha-Beta-Rho) is used to approximate the implied volatility for options [Managing Smile Risk by Patrick S. Hagan and Deep Kumar and Andrew Lesniewski and Diana E. Woodward]. The model has four parameters: $\\alpha$, $\\beta$, $\\rho$, and $\\nu$. Given the current underlying asset price $S$, the strike price $K$, and the time to expiration $T$, the SABR model calculates the implied volatility $\\sigma$.\n",
    "\n",
    "First, we calculate two intermediate variables, $z$ and $x_z$:\n",
    "\n",
    "$$\n",
    "z = \\frac{\\nu (S - K)}{\\alpha}\n",
    "$$\n",
    "\n",
    "$$\n",
    "x_z = \\log \\left(\\frac{\\sqrt{1 - 2\\rho z + z^2} + z - \\rho}{1 - \\rho}\\right)\n",
    "$$\n",
    "\n",
    "Then, we compute the implied volatility $\\sigma$ based on the relationship between the underlying asset price $F$ and the strike price $K$:\n",
    "\n",
    "1. If $S = K$:\n",
    "\n",
    "$$\n",
    "\\sigma = \\frac{\\alpha}{S^{1 - \\beta}(1 - \\beta)} \\frac{z}{x_z}\n",
    "$$\n",
    "\n",
    "2. If $S \\neq K$:\n",
    "\n",
    "$$\n",
    "\\sigma = \\frac{\\alpha (S K)^{\\frac{1 - \\beta}{2}}}{S^{1 - \\beta} - K^{1 - \\beta}} \\frac{z}{x_z}\n",
    "$$\n"
   ]
  },
  {
   "cell_type": "code",
   "execution_count": 6,
   "id": "d79db047-0960-46f5-83d5-3f9559f8193c",
   "metadata": {
    "tags": []
   },
   "outputs": [
    {
     "name": "stdout",
     "output_type": "stream",
     "text": [
      "Implied volatility: -23.805102402358457\n"
     ]
    }
   ],
   "source": [
    "import math\n",
    "\n",
    "def sabr(alpha, beta, rho, nu, s, k, t):\n",
    "    \"\"\"\n",
    "    Calculate the implied volatility using the SABR model.\n",
    "    \n",
    "    Parameters:\n",
    "    alpha (float): SABR model parameter that represents the initial level of volatility.\n",
    "    beta (float): SABR model parameter that governs the behavior of the implied volatility with respect to the underlying asset price.\n",
    "    rho (float): SABR model parameter that captures the correlation between the underlying asset price and its volatility.\n",
    "    nu (float): SABR model parameter that represents the volatility of volatility.\n",
    "    s (float): Current underlying asset price.\n",
    "    k (float): Strike price of the option.\n",
    "    t (float): Time to expiration in years.\n",
    "    \n",
    "    Returns:\n",
    "    float: Implied volatility calculated using the SABR model.\n",
    "    \"\"\"\n",
    "\n",
    "    # Calculate the variable 'z' as a function of the SABR model parameters and input variables.\n",
    "    z = nu * (s - k) / alpha\n",
    "    \n",
    "    # Calculate the variable 'x_z', which is used in the formula for the implied volatility.\n",
    "    x_z = math.log((math.sqrt(1 - 2 * rho * z + z**2) + z - rho) / (1 - rho))\n",
    "    \n",
    "    # Check if the underlying asset price is equal to the strike price.\n",
    "    if s == k:\n",
    "        # Calculate the implied volatility using the SABR model formula when the underlying asset price is equal to the strike price.\n",
    "        vol = (alpha / ((s**(1-beta)) * (1-beta))) * (z / x_z)\n",
    "    else:\n",
    "        # Calculate the implied volatility using the SABR model formula when the underlying asset price is not equal to the strike price.\n",
    "        vol = (alpha * (s * k)**((1 - beta) / 2)) / (math.pow(s, 1 - beta) - math.pow(k, 1 - beta)) * (z / x_z)\n",
    "\n",
    "    return vol\n",
    "\n",
    "\n",
    "def main():\n",
    "    # Synthesize input data\n",
    "    alpha = 0.2\n",
    "    beta = 0.5\n",
    "    rho = -0.4\n",
    "    nu = 0.5\n",
    "    s = 100  # current underlying asset price\n",
    "    k = 110  # strike price\n",
    "    t = 1  # time to expiration (years)\n",
    "\n",
    "    # Calculate the implied volatility using the SABR model\n",
    "    implied_volatility = sabr(alpha, beta, rho, nu, s, k, t)\n",
    "    print(\"Implied volatility:\", implied_volatility)\n",
    "\n",
    "if __name__ == \"__main__\":\n",
    "    main()\n"
   ]
  },
  {
   "cell_type": "code",
   "execution_count": null,
   "id": "fa3b358b-b446-45c4-8334-2ed25fc34e35",
   "metadata": {},
   "outputs": [],
   "source": []
  }
 ],
 "metadata": {
  "kernelspec": {
   "display_name": "Python 3 (ipykernel)",
   "language": "python",
   "name": "python3"
  },
  "language_info": {
   "codemirror_mode": {
    "name": "ipython",
    "version": 3
   },
   "file_extension": ".py",
   "mimetype": "text/x-python",
   "name": "python",
   "nbconvert_exporter": "python",
   "pygments_lexer": "ipython3",
   "version": "3.10.10"
  }
 },
 "nbformat": 4,
 "nbformat_minor": 5
}
